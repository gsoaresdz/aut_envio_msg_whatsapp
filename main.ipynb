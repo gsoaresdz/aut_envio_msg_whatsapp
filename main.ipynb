{
 "cells": [
  {
   "cell_type": "markdown",
   "metadata": {},
   "source": [
    "## Automação de envio de Mensagens com o WhatsApp Web\n",
    "\n",
    "Este projeto consiste em um script Python que automatiza o envio de mensagens para contatos do WhatsApp Web."
   ]
  },
  {
   "cell_type": "markdown",
   "metadata": {},
   "source": [
    "###### Módulos e Bibliotecas"
   ]
  },
  {
   "cell_type": "code",
   "execution_count": 1,
   "metadata": {},
   "outputs": [],
   "source": [
    "import pandas as pd\n",
    "from distutils.spawn import find_executable\n",
    "from selenium import webdriver\n",
    "from selenium.webdriver.common.by import By\n",
    "from selenium.webdriver.common.keys import Keys\n",
    "import time\n",
    "import urllib"
   ]
  },
  {
   "cell_type": "markdown",
   "metadata": {},
   "source": [
    "###### Importação de Arquivo Excel"
   ]
  },
  {
   "cell_type": "code",
   "execution_count": 2,
   "metadata": {},
   "outputs": [
    {
     "data": {
      "text/html": [
       "<div>\n",
       "<style scoped>\n",
       "    .dataframe tbody tr th:only-of-type {\n",
       "        vertical-align: middle;\n",
       "    }\n",
       "\n",
       "    .dataframe tbody tr th {\n",
       "        vertical-align: top;\n",
       "    }\n",
       "\n",
       "    .dataframe thead th {\n",
       "        text-align: right;\n",
       "    }\n",
       "</style>\n",
       "<table border=\"1\" class=\"dataframe\">\n",
       "  <thead>\n",
       "    <tr style=\"text-align: right;\">\n",
       "      <th></th>\n",
       "      <th>Pessoa</th>\n",
       "      <th>Número</th>\n",
       "      <th>Mensagem</th>\n",
       "    </tr>\n",
       "  </thead>\n",
       "  <tbody>\n",
       "    <tr>\n",
       "      <th>0</th>\n",
       "      <td>Luis</td>\n",
       "      <td>Digite seu número</td>\n",
       "      <td>Boa noite, isso é uma mensagem de teste (:</td>\n",
       "    </tr>\n",
       "    <tr>\n",
       "      <th>1</th>\n",
       "      <td>João</td>\n",
       "      <td>Digite seu número</td>\n",
       "      <td>Oi, isso é uma mensagem de teste (:</td>\n",
       "    </tr>\n",
       "  </tbody>\n",
       "</table>\n",
       "</div>"
      ],
      "text/plain": [
       "  Pessoa             Número                                    Mensagem\n",
       "0   Luis  Digite seu número  Boa noite, isso é uma mensagem de teste (:\n",
       "1   João  Digite seu número         Oi, isso é uma mensagem de teste (:"
      ]
     },
     "metadata": {},
     "output_type": "display_data"
    }
   ],
   "source": [
    "contatos_df = pd.read_excel(r\"arquivos/Enviar.xlsx\")\n",
    "display(contatos_df)"
   ]
  },
  {
   "cell_type": "markdown",
   "metadata": {},
   "source": [
    "###### Automação de Envio de Mensagens"
   ]
  },
  {
   "cell_type": "code",
   "execution_count": null,
   "metadata": {},
   "outputs": [],
   "source": [
    "navegador = webdriver.Chrome()\n",
    "navegador.get(\"https://web.whatsapp.com/\")\n",
    "\n",
    "while len(navegador.find_elements(By.ID, \"side\")) < 1:\n",
    "    time.sleep(1)\n",
    "\n",
    "# já estamos com o login feito no whatsapp web\n",
    "for i, mensagem in enumerate(contatos_df['Mensagem']):\n",
    "    pessoa = contatos_df.loc[i, \"Pessoa\"]\n",
    "    numero = contatos_df.loc[i, \"Número\"]\n",
    "    texto = urllib.parse.quote(f\"Oi {pessoa}! {mensagem}\")\n",
    "    link = f\"https://web.whatsapp.com/send?phone={numero}&text={texto}&/n\"\n",
    "    navegador.get(link)\n",
    "    while len(navegador.find_elements(By.ID, \"pane-side\")) < 1:\n",
    "        time.sleep(1)   \n",
    "    time.sleep(1)\n",
    "    navegador.find_element(By.XPATH, '//*[@id=\"main\"]/footer/div[1]/div/span[2]/div/div[2]/div[2]/button/span').click()\n",
    "    time.sleep(12)"
   ]
  }
 ],
 "metadata": {
  "kernelspec": {
   "display_name": "Python 3.9.7 ('base')",
   "language": "python",
   "name": "python3"
  },
  "language_info": {
   "codemirror_mode": {
    "name": "ipython",
    "version": 3
   },
   "file_extension": ".py",
   "mimetype": "text/x-python",
   "name": "python",
   "nbconvert_exporter": "python",
   "pygments_lexer": "ipython3",
   "version": "3.9.7"
  },
  "vscode": {
   "interpreter": {
    "hash": "050e05a3433b3439c75c3996882c7a94442b00aaf0a5c5f8ac5c4068c5ae1f8a"
   }
  }
 },
 "nbformat": 4,
 "nbformat_minor": 4
}
